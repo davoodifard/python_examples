{
 "cells": [
  {
   "cell_type": "markdown",
   "id": "67ba9aa5-8f1d-40ea-aad7-11450aa94387",
   "metadata": {},
   "source": [
    "# Google News Feed with Python and Pandas\n",
    "\n",
    "In this Notebook we demonstrate how to read google news and display them as a Pandas dataframe object, which may be used for further analysis. To do this, we need to install the GoogleNews package. For further information on this package see [here](https://pypi.org/project/GoogleNews/)\n",
    "\n",
    "As said before, we install the package first:"
   ]
  },
  {
   "cell_type": "code",
   "execution_count": 18,
   "id": "5a691c85-5ab5-4720-a0a0-7de792706dc0",
   "metadata": {},
   "outputs": [],
   "source": [
    "%%capture\n",
    "!pip install GoogleNews"
   ]
  },
  {
   "cell_type": "markdown",
   "id": "2e07bdfe-2664-47bf-b82d-79fdd2492390",
   "metadata": {},
   "source": [
    "Let's have a look at the package information using `pip show` command:"
   ]
  },
  {
   "cell_type": "code",
   "execution_count": 21,
   "id": "c74ad716-15b0-478c-b421-77883ded076f",
   "metadata": {},
   "outputs": [
    {
     "name": "stdout",
     "output_type": "stream",
     "text": [
      "Name: GoogleNews\n",
      "Version: 1.6.0\n",
      "Summary: Google News search for Python\n",
      "Home-page: https://github.com/Iceloof/GoogleNews\n",
      "Author: Hurin Hu\n",
      "Author-email: hurin@live.ca\n",
      "License: UNKNOWN\n",
      "Location: c:\\python37\\lib\\site-packages\n",
      "Requires: dateparser, python-dateutil, beautifulsoup4\n",
      "Required-by: \n"
     ]
    }
   ],
   "source": [
    "!pip show GoogleNews"
   ]
  },
  {
   "cell_type": "markdown",
   "id": "fe3e41d7-ac33-4a40-8b23-a5420db995c3",
   "metadata": {},
   "source": [
    "Then we import the necessary packages:"
   ]
  },
  {
   "cell_type": "code",
   "execution_count": 20,
   "id": "b78fc109-48db-4b47-81d3-40046b65d9cb",
   "metadata": {},
   "outputs": [
    {
     "name": "stdout",
     "output_type": "stream",
     "text": [
      "Successfully imported packages.\n"
     ]
    }
   ],
   "source": [
    "from GoogleNews import GoogleNews as GN\n",
    "import pandas as pd\n",
    "print('Successfully imported packages.')"
   ]
  },
  {
   "cell_type": "markdown",
   "id": "3e979636-255c-49c8-b501-92a70e80ed05",
   "metadata": {},
   "source": [
    "Now we create an object from the GoogleNews class for a period of one day:"
   ]
  },
  {
   "cell_type": "code",
   "execution_count": 4,
   "id": "36d51b88-f549-4b10-92f5-36f96b889834",
   "metadata": {},
   "outputs": [],
   "source": [
    "news = GN(period='1d')"
   ]
  },
  {
   "cell_type": "markdown",
   "id": "dc3e371f-1176-408b-bfd6-b9105f0a3e21",
   "metadata": {},
   "source": [
    "We may have a look at attributes and methods in this class using `dir()`:"
   ]
  },
  {
   "cell_type": "code",
   "execution_count": 23,
   "id": "04c22f50-2ddb-44a4-bdd3-775f29d42919",
   "metadata": {},
   "outputs": [
    {
     "name": "stdout",
     "output_type": "stream",
     "text": [
      "['__class__', '__delattr__', '__dict__', '__dir__', '__doc__', '__eq__', '__format__', '__ge__', '__getattribute__', '__gt__', '__hash__', '__init__', '__init_subclass__', '__le__', '__lt__', '__module__', '__ne__', '__new__', '__reduce__', '__reduce_ex__', '__repr__', '__setattr__', '__sizeof__', '__str__', '__subclasshook__', '__weakref__', 'build_response', 'clear', 'getVersion', 'get_links', 'get_news', 'get_page', 'get_texts', 'getpage', 'gettext', 'page_at', 'result', 'results', 'search', 'setTimeRange', 'set_encode', 'set_lang', 'set_period', 'set_time_range', 'setencode', 'setlang', 'setperiod', 'total_count']\n"
     ]
    }
   ],
   "source": [
    "print(dir(GN))"
   ]
  },
  {
   "cell_type": "markdown",
   "id": "69108608-056b-4b83-abf4-7c1b3eea84ab",
   "metadata": {},
   "source": [
    "I am rather interested in the `search()` function. To get some information, we use the `help()` function:"
   ]
  },
  {
   "cell_type": "code",
   "execution_count": 24,
   "id": "ee44614d-461a-4eff-a93e-5374b3cfd935",
   "metadata": {},
   "outputs": [
    {
     "name": "stdout",
     "output_type": "stream",
     "text": [
      "Help on function search in module GoogleNews:\n",
      "\n",
      "search(self, key)\n",
      "    Searches for a term in google.com in the news section and retrieves the first page into __results.\n",
      "    Parameters:\n",
      "    key = the search term\n",
      "\n"
     ]
    }
   ],
   "source": [
    "help(GN.search)"
   ]
  },
  {
   "cell_type": "markdown",
   "id": "8853acca-1ec6-4941-aa5a-74a37b4825bb",
   "metadata": {},
   "source": [
    "Let's pass `Berlin` as key and retrieve the results:"
   ]
  },
  {
   "cell_type": "code",
   "execution_count": 25,
   "id": "a19afae8-3cc6-4e00-b001-6c729a74d597",
   "metadata": {},
   "outputs": [],
   "source": [
    "news.search('Berlin')"
   ]
  },
  {
   "cell_type": "code",
   "execution_count": 26,
   "id": "fb248e46-1294-4596-915a-3d5f7c579f8b",
   "metadata": {},
   "outputs": [],
   "source": [
    "result = news.result()"
   ]
  },
  {
   "cell_type": "markdown",
   "id": "d56de695-e990-4a62-80c0-b81d5641110e",
   "metadata": {},
   "source": [
    "Having a look at the results, we recognize a Python list, whose elements are dictionaries:"
   ]
  },
  {
   "cell_type": "code",
   "execution_count": 28,
   "id": "bc38029d-0b3f-4c46-825f-487fa4a622f9",
   "metadata": {},
   "outputs": [
    {
     "data": {
      "text/plain": [
       "list"
      ]
     },
     "execution_count": 28,
     "metadata": {},
     "output_type": "execute_result"
    }
   ],
   "source": [
    "type(result)"
   ]
  },
  {
   "cell_type": "code",
   "execution_count": 30,
   "id": "10a9fe74-68cc-4d1a-9060-1d3cad89add5",
   "metadata": {},
   "outputs": [
    {
     "data": {
      "text/plain": [
       "{'title': 'Azan Heard From Sky In Berlin? Old Video Viral With Misleading Claim | BOOM',\n",
       " 'media': 'BOOM',\n",
       " 'date': '0 mins ago',\n",
       " 'datetime': None,\n",
       " 'desc': 'BOOM found that the video shows onlookers recording a call to prayer from a \\nnearby mosque in Germnay, amid COVID lockdown restrictions in 2020.',\n",
       " 'link': 'https://www.boomlive.in/fact-check/world/viral-video-islamic-call-heard-from-sky-berlin-germany-old-video-social-media-16098',\n",
       " 'img': 'data:image/gif;base64,R0lGODlhAQABAIAAAP///////yH5BAEKAAEALAAAAAABAAEAAAICTAEAOw=='}"
      ]
     },
     "execution_count": 30,
     "metadata": {},
     "output_type": "execute_result"
    }
   ],
   "source": [
    "result[0]"
   ]
  },
  {
   "cell_type": "markdown",
   "id": "eae71ca8-74bd-4168-a81f-a9fff7f5b9cb",
   "metadata": {},
   "source": [
    "Now we can create a dataframe using Pnadas function `pandas.DataFrame.from_dict()`:"
   ]
  },
  {
   "cell_type": "code",
   "execution_count": 31,
   "id": "ef69f693-d199-4533-8ef3-53b1679c507f",
   "metadata": {},
   "outputs": [],
   "source": [
    "df = pd.DataFrame.from_dict(result)"
   ]
  },
  {
   "cell_type": "markdown",
   "id": "bb56674f-c6b0-402b-8d9a-7d6b0076e96f",
   "metadata": {},
   "source": [
    "The link to each news image is not necessary, so we can remove this from dataframe:"
   ]
  },
  {
   "cell_type": "code",
   "execution_count": 33,
   "id": "b2431198-506b-4d78-a348-757020b85459",
   "metadata": {},
   "outputs": [],
   "source": [
    "df = df.drop(columns=['img'])"
   ]
  },
  {
   "cell_type": "markdown",
   "id": "d0dacdfc-f1dc-4f5c-b794-60e50e208331",
   "metadata": {},
   "source": [
    "And now let's have a look at our dataframe:"
   ]
  },
  {
   "cell_type": "code",
   "execution_count": 34,
   "id": "6aafce8e-f8b2-449f-ad69-cd0fa169468f",
   "metadata": {},
   "outputs": [
    {
     "data": {
      "text/html": [
       "<div>\n",
       "<style scoped>\n",
       "    .dataframe tbody tr th:only-of-type {\n",
       "        vertical-align: middle;\n",
       "    }\n",
       "\n",
       "    .dataframe tbody tr th {\n",
       "        vertical-align: top;\n",
       "    }\n",
       "\n",
       "    .dataframe thead th {\n",
       "        text-align: right;\n",
       "    }\n",
       "</style>\n",
       "<table border=\"1\" class=\"dataframe\">\n",
       "  <thead>\n",
       "    <tr style=\"text-align: right;\">\n",
       "      <th></th>\n",
       "      <th>title</th>\n",
       "      <th>media</th>\n",
       "      <th>date</th>\n",
       "      <th>datetime</th>\n",
       "      <th>desc</th>\n",
       "      <th>link</th>\n",
       "    </tr>\n",
       "  </thead>\n",
       "  <tbody>\n",
       "    <tr>\n",
       "      <th>0</th>\n",
       "      <td>Azan Heard From Sky In Berlin? Old Video Viral...</td>\n",
       "      <td>BOOM</td>\n",
       "      <td>0 mins ago</td>\n",
       "      <td>NaT</td>\n",
       "      <td>BOOM found that the video shows onlookers reco...</td>\n",
       "      <td>https://www.boomlive.in/fact-check/world/viral...</td>\n",
       "    </tr>\n",
       "    <tr>\n",
       "      <th>1</th>\n",
       "      <td>Berlin eyes Rebuild Alabama road funds for 2022</td>\n",
       "      <td>The Cullman Times</td>\n",
       "      <td>4 hours ago</td>\n",
       "      <td>2021-12-21 04:23:54.025253</td>\n",
       "      <td>BERLIN — Berlin leaders are hoping the state's...</td>\n",
       "      <td>https://www.cullmantimes.com/news/berlin-eyes-...</td>\n",
       "    </tr>\n",
       "    <tr>\n",
       "      <th>2</th>\n",
       "      <td>PHOTO GALLERY | Portage's Claar reaches 1000th...</td>\n",
       "      <td>The Tribune-Democrat</td>\n",
       "      <td>4 hours ago</td>\n",
       "      <td>2021-12-21 04:23:54.036277</td>\n",
       "      <td>First Amendment: Congress shall make no law re...</td>\n",
       "      <td>https://www.tribdem.com/gallery/photo-gallery-...</td>\n",
       "    </tr>\n",
       "    <tr>\n",
       "      <th>3</th>\n",
       "      <td>Russia expels two German diplomats</td>\n",
       "      <td>The News International</td>\n",
       "      <td>6 hours ago</td>\n",
       "      <td>2021-12-21 02:23:54.046276</td>\n",
       "      <td>MOSCOW: Russia on Monday expelled two German d...</td>\n",
       "      <td>https://www.thenews.com.pk/print/918507-russia...</td>\n",
       "    </tr>\n",
       "    <tr>\n",
       "      <th>4</th>\n",
       "      <td>Obituary: Rita T. Lemieux | Obituaries | conwa...</td>\n",
       "      <td>Conway Daily Sun</td>\n",
       "      <td>8 hours ago</td>\n",
       "      <td>2021-12-21 00:23:54.055277</td>\n",
       "      <td>Rita T. Lemieux, 67, of Berlin, N.H., passed a...</td>\n",
       "      <td>https://www.conwaydailysun.com/berlin_sun/comm...</td>\n",
       "    </tr>\n",
       "  </tbody>\n",
       "</table>\n",
       "</div>"
      ],
      "text/plain": [
       "                                               title                   media  \\\n",
       "0  Azan Heard From Sky In Berlin? Old Video Viral...                    BOOM   \n",
       "1    Berlin eyes Rebuild Alabama road funds for 2022       The Cullman Times   \n",
       "2  PHOTO GALLERY | Portage's Claar reaches 1000th...    The Tribune-Democrat   \n",
       "3                 Russia expels two German diplomats  The News International   \n",
       "4  Obituary: Rita T. Lemieux | Obituaries | conwa...        Conway Daily Sun   \n",
       "\n",
       "          date                   datetime  \\\n",
       "0   0 mins ago                        NaT   \n",
       "1  4 hours ago 2021-12-21 04:23:54.025253   \n",
       "2  4 hours ago 2021-12-21 04:23:54.036277   \n",
       "3  6 hours ago 2021-12-21 02:23:54.046276   \n",
       "4  8 hours ago 2021-12-21 00:23:54.055277   \n",
       "\n",
       "                                                desc  \\\n",
       "0  BOOM found that the video shows onlookers reco...   \n",
       "1  BERLIN — Berlin leaders are hoping the state's...   \n",
       "2  First Amendment: Congress shall make no law re...   \n",
       "3  MOSCOW: Russia on Monday expelled two German d...   \n",
       "4  Rita T. Lemieux, 67, of Berlin, N.H., passed a...   \n",
       "\n",
       "                                                link  \n",
       "0  https://www.boomlive.in/fact-check/world/viral...  \n",
       "1  https://www.cullmantimes.com/news/berlin-eyes-...  \n",
       "2  https://www.tribdem.com/gallery/photo-gallery-...  \n",
       "3  https://www.thenews.com.pk/print/918507-russia...  \n",
       "4  https://www.conwaydailysun.com/berlin_sun/comm...  "
      ]
     },
     "execution_count": 34,
     "metadata": {},
     "output_type": "execute_result"
    }
   ],
   "source": [
    "df.head()"
   ]
  },
  {
   "cell_type": "markdown",
   "id": "0f7dce17-e969-4166-b1de-5bb192eff678",
   "metadata": {},
   "source": [
    "We can also have a look at each news using a loop:"
   ]
  },
  {
   "cell_type": "code",
   "execution_count": 35,
   "id": "458bd41b-ad19-4383-9591-293d283a3317",
   "metadata": {},
   "outputs": [
    {
     "name": "stdout",
     "output_type": "stream",
     "text": [
      "Title: Azan Heard From Sky In Berlin? Old Video Viral With Misleading Claim | BOOM\n",
      "Text: BOOM found that the video shows onlookers recording a call to prayer from a \n",
      "nearby mosque in Germnay, amid COVID lockdown restrictions in 2020.\n",
      "Link: https://www.boomlive.in/fact-check/world/viral-video-islamic-call-heard-from-sky-berlin-germany-old-video-social-media-16098\n",
      "\n",
      "Title: Berlin eyes Rebuild Alabama road funds for 2022\n",
      "Text: BERLIN — Berlin leaders are hoping the state's gas tax-funded paving \n",
      "program will be the ticket to beefing up road infrastructure around the \n",
      "town's...\n",
      "Link: https://www.cullmantimes.com/news/berlin-eyes-rebuild-alabama-road-funds-for-2022/article_3b5874fc-620a-11ec-8b9b-73c1703bff51.html\n",
      "\n",
      "Title: PHOTO GALLERY | Portage's Claar reaches 1000th point in 87-83 comeback over Berlin\n",
      "Text: First Amendment: Congress shall make no law respecting an establishment of \n",
      "religion, or prohibiting the free exercise thereof; or abridging the \n",
      "freedom of...\n",
      "Link: https://www.tribdem.com/gallery/photo-gallery-portages-claar-reaches-1-000th-point-in-87-83-comeback-over-berlin/collection_0bbaa8fc-6203-11ec-bafc-e3da99581694.html\n",
      "\n",
      "Title: Russia expels two German diplomats\n",
      "Text: MOSCOW: Russia on Monday expelled two German diplomats in response to a \n",
      "spat with Berlin over a German court's ruling that Moscow had ordered the...\n",
      "Link: https://www.thenews.com.pk/print/918507-russia-expels-two-german-diplomats\n",
      "\n",
      "Title: Obituary: Rita T. Lemieux | Obituaries | conwaydailysun.com\n",
      "Text: Rita T. Lemieux, 67, of Berlin, N.H., passed away on Dec. 12, 2021, at the \n",
      "Androscoggin Valley Hospital in Berlin.\n",
      "Link: https://www.conwaydailysun.com/berlin_sun/community/obituaries/obituary-rita-t-lemieux/article_83062164-61a6-11ec-9cd5-13de4e4b5458.html\n",
      "\n",
      "Title: Obituary: Bertha C. Santiago | Obituaries | conwaydailysun.com\n",
      "Text: Bertha C. Santiago, 82, of Berlin, N.H., passed away on Thursday Dec. 16, \n",
      "2021, at the Coos County Nursing Home.\n",
      "Link: https://www.conwaydailysun.com/berlin_sun/community/obituaries/obituary-bertha-c-santiago/article_abd45dc4-61a4-11ec-bed6-bf73a45a595d.html\n",
      "\n",
      "Title: Spotlight: Berlin Artist and Set Designer Philipp Fürhofer Uses Tricks of the Stage to Create Mesmerizing Artworks\n",
      "Text: Gallery Network Spotlight: Berlin Artist and Set Designer Philipp Fürhofer \n",
      "Uses Tricks of the Stage to Create Mesmerizing Artworks.\n",
      "Link: https://www.marketscreener.com/quote/stock/ARTNET-AG-9069063/news/Spotlight-Berlin-Artist-and-Set-Designer-Philipp-Furhofer-Uses-Tricks-of-the-Stage-to-Create-Mesmer-37380580/\n",
      "\n",
      "Title: Homestead and New Berlin Eisenhower get statement wins to claim weekly honors plus the latest girls basketball top 20 ranking\n",
      "Text: Each week the Journal Sentinel will rank the area's top teams as well as \n",
      "recognize the area's top performances.\n",
      "Link: https://www.jsonline.com/story/sports/high-schools/2021/12/20/milwaukee-high-school-girls-basketball-area-top-20-weekly-honors/8973662002/\n",
      "\n",
      "Title: Bliss review – Berlin sex worker falls in love with new girl in no holds barred drama\n",
      "Text: Henrika Kull's intimate movie is set in a real-life legal brothel in \n",
      "Berlin. Katharina Behrens plays fortysomething Sascha: a good-natured,...\n",
      "Link: https://www.theguardian.com/film/2021/dec/20/bliss-review-candid-crush-in-a-berlin-brothel\n",
      "\n",
      "Title: Coronavirus in Germany\n",
      "Text: 20.12.2021: Great Britain classified as a virus variant area. Berlin (dpa) \n",
      "- Due to the massive spread of the Omikron variant in Great Britain, the \n",
      "country...\n",
      "Link: https://www.deutschland.de/en/news/coronavirus-in-germany-information\n",
      "\n",
      "Title: Newly-elected Berlin mayor targets city rental crisis\n",
      "Text: Former German family minister Franziska Giffey was elected mayor of Berlin \n",
      "on Tuesday with a plan to boost house building amid soaring rental costs in \n",
      "the...\n",
      "Link: https://www.thelocal.de/20211221/newly-elected-berlin-mayor-targets-city-rental-crisis/\n",
      "\n",
      "Title: Summer schedule announced for night train from Prague to Berlin and Brussels\n",
      "Text: Night trains will run between Prague, Berlin, Amsterdam, and Brussels as of \n",
      "this summer. The new Belgian-Dutch rail company European Sleeper announced \n",
      "a...\n",
      "Link: https://www.expats.cz/czech-news/article/night-trains-from-prague-to-berlin-and-brussels-starting-in-the-summer\n",
      "\n",
      "Title: Coronavirus in Germany\n",
      "Text: 21.12.2021: Robert Koch Institute increases risk assessment. Berlin (dpa) - \n",
      "Because of the Omikron variant of the coronavirus, the Robert Koch \n",
      "Institute...\n",
      "Link: https://www.deutschland.de/en/news/coronavirus-in-germany-information\n",
      "\n",
      "Title: Berlin: Franziska Giffey sworn in as first elected female mayor\n",
      "Text: Social Democrat politician Franziska Giffey has become Berlin's first \n",
      "elected female mayor after a vote by city delegates.\n",
      "Link: https://www.dw.com/en/berlin-franziska-giffey-sworn-in-as-first-elected-female-mayor/a-60207506\n",
      "\n",
      "Title: Additive Manufacturing Forum Berlin to take place March 2022\n",
      "Text: The 6th Additive Manufacturing Forum Berlin is scheduled to take place \n",
      "March 14–15, 2022, in-person and online. The event will...\n",
      "Link: http://www.metal-am.com/additive-manufacturing-forum-berlin-to-take-place-march-2022/\n",
      "\n",
      "Title: Person stabbed in chest, found at Newington gas station\n",
      "Text: Police said the stabbing happened at the CITGO station on the Berlin \n",
      "Turnpike by Brockett Street.\n",
      "Link: https://www.fox61.com/article/news/local/hartford-county/berlin-turnpike-newington-gas-station-citgo-stabbing/520-c3037438-fa52-47fe-9f7e-6e8a5e402214\n",
      "\n",
      "Title: Former German minister becomes new mayor of Berlin\n",
      "Text: BERLIN (AP) — Franziska Giffey has become Berlin's new mayor as the leader \n",
      "of a three-party left-wing governing coalition. She is a former federal \n",
      "minister...\n",
      "Link: https://ktvz.com/news/ap-national-news/2021/12/21/former-german-minister-becomes-new-mayor-of-berlin/\n",
      "\n",
      "Title: Former German minister becomes new mayor of Berlin\n",
      "Text: Franziska Giffey has become Berlin's new mayor as the leader of a \n",
      "three-party left-wing governing coalition.\n",
      "Link: https://www.independent.co.uk/news/berlin-social-democrats-olaf-scholz-angela-merkel-greens-b1980003.html\n",
      "\n",
      "Title: Franziska Giffey Elected Governing Mayor of Berlin\n",
      "Text: The Berlin House of Representatives just elected Germany's former Family \n",
      "Minister Franziska Giffey Governing Mayor. Only few believed she would win \n",
      "the...\n",
      "Link: https://berlinspectator.com/2021/12/21/franziska-giffey-elected-governing-mayor-of-berlin/\n",
      "\n",
      "Title: Giffey zur Regierenden Bürgermeisterin von Berlin gewählt | Presse Augsburg\n",
      "Text: Franziska Giffey (SPD) ist zur neuen Regierenden Bürgermeisterin von Berlin \n",
      "gewählt worden. Sie erhielt am Dienstag im Berliner Abgeordnetenhaus im \n",
      "ersten.\n",
      "Link: https://presse-augsburg.de/giffey-zur-regierenden-buergermeisterin-von-berlin-gewaehlt/767241/\n",
      "\n"
     ]
    }
   ],
   "source": [
    "for r in result:\n",
    "    print('Title:', r['title'])\n",
    "    print('Text:', r['desc'])\n",
    "    print('Link:', r['link'])\n",
    "    print()"
   ]
  },
  {
   "cell_type": "markdown",
   "id": "80e60f0f-75f1-4d9c-bd7a-5f6c7d159b36",
   "metadata": {},
   "source": []
  }
 ],
 "metadata": {
  "kernelspec": {
   "display_name": "Python 3 (ipykernel)",
   "language": "python",
   "name": "python3"
  },
  "language_info": {
   "codemirror_mode": {
    "name": "ipython",
    "version": 3
   },
   "file_extension": ".py",
   "mimetype": "text/x-python",
   "name": "python",
   "nbconvert_exporter": "python",
   "pygments_lexer": "ipython3",
   "version": "3.7.9"
  }
 },
 "nbformat": 4,
 "nbformat_minor": 5
}
